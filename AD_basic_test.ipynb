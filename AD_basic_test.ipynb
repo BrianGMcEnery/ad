{
 "cells": [
  {
   "cell_type": "code",
   "execution_count": 1,
   "id": "ca6cd74f",
   "metadata": {},
   "outputs": [],
   "source": [
    "import ad\n",
    "from ad import adnumber"
   ]
  },
  {
   "cell_type": "code",
   "execution_count": 2,
   "id": "63b8fbb5",
   "metadata": {},
   "outputs": [],
   "source": [
    "x = adnumber(2.0)"
   ]
  },
  {
   "cell_type": "code",
   "execution_count": 3,
   "id": "e25f7a05",
   "metadata": {},
   "outputs": [
    {
     "data": {
      "text/plain": [
       "ad(0.6666666666666666)"
      ]
     },
     "execution_count": 3,
     "metadata": {},
     "output_type": "execute_result"
    }
   ],
   "source": [
    "x/3"
   ]
  },
  {
   "cell_type": "code",
   "execution_count": 4,
   "id": "f7352190",
   "metadata": {},
   "outputs": [
    {
     "data": {
      "text/plain": [
       "ad.ADV"
      ]
     },
     "execution_count": 4,
     "metadata": {},
     "output_type": "execute_result"
    }
   ],
   "source": [
    "type(x)"
   ]
  },
  {
   "cell_type": "code",
   "execution_count": 5,
   "id": "efba8875",
   "metadata": {},
   "outputs": [
    {
     "data": {
      "text/plain": [
       "ad(4.0)"
      ]
     },
     "execution_count": 5,
     "metadata": {},
     "output_type": "execute_result"
    }
   ],
   "source": [
    "square = x**2\n",
    "square"
   ]
  },
  {
   "cell_type": "code",
   "execution_count": 6,
   "id": "137a2c0e",
   "metadata": {},
   "outputs": [
    {
     "data": {
      "text/plain": [
       "ad((3+4j))"
      ]
     },
     "execution_count": 6,
     "metadata": {},
     "output_type": "execute_result"
    }
   ],
   "source": [
    "a = adnumber(3 + 4j)\n",
    "a"
   ]
  },
  {
   "cell_type": "code",
   "execution_count": 7,
   "id": "a83c56a5",
   "metadata": {},
   "outputs": [
    {
     "data": {
      "text/plain": [
       "ad(5.0)"
      ]
     },
     "execution_count": 7,
     "metadata": {},
     "output_type": "execute_result"
    }
   ],
   "source": [
    "abs(a)"
   ]
  },
  {
   "cell_type": "code",
   "execution_count": 8,
   "id": "054fd0f6",
   "metadata": {},
   "outputs": [
    {
     "data": {
      "text/plain": [
       "ad((1-1j))"
      ]
     },
     "execution_count": 8,
     "metadata": {},
     "output_type": "execute_result"
    }
   ],
   "source": [
    "b = adnumber(1 - 1j)\n",
    "b"
   ]
  },
  {
   "cell_type": "code",
   "execution_count": 9,
   "id": "595c4153",
   "metadata": {},
   "outputs": [
    {
     "data": {
      "text/plain": [
       "ad((7+1j))"
      ]
     },
     "execution_count": 9,
     "metadata": {},
     "output_type": "execute_result"
    }
   ],
   "source": [
    "a * b"
   ]
  },
  {
   "cell_type": "code",
   "execution_count": 10,
   "id": "603344dd",
   "metadata": {},
   "outputs": [
    {
     "data": {
      "text/plain": [
       "(3.0, 4.0)"
      ]
     },
     "execution_count": 10,
     "metadata": {},
     "output_type": "execute_result"
    }
   ],
   "source": [
    "(a.real, a.imag)"
   ]
  },
  {
   "cell_type": "code",
   "execution_count": 11,
   "id": "def0652c",
   "metadata": {},
   "outputs": [
    {
     "data": {
      "text/plain": [
       "ad((2+3.14j))"
      ]
     },
     "execution_count": 11,
     "metadata": {},
     "output_type": "execute_result"
    }
   ],
   "source": [
    "y = adnumber(3.14)\n",
    "z = x + y*1j\n",
    "z"
   ]
  },
  {
   "cell_type": "code",
   "execution_count": 12,
   "id": "0cad97dd",
   "metadata": {},
   "outputs": [
    {
     "data": {
      "text/plain": [
       "ad(2.0)"
      ]
     },
     "execution_count": 12,
     "metadata": {},
     "output_type": "execute_result"
    }
   ],
   "source": [
    "z = adnumber(x)\n",
    "z"
   ]
  },
  {
   "cell_type": "code",
   "execution_count": 13,
   "id": "49a01a2e",
   "metadata": {},
   "outputs": [
    {
     "data": {
      "text/plain": [
       "False"
      ]
     },
     "execution_count": 13,
     "metadata": {},
     "output_type": "execute_result"
    }
   ],
   "source": [
    "z is x"
   ]
  },
  {
   "cell_type": "code",
   "execution_count": 14,
   "id": "a1154ec5",
   "metadata": {},
   "outputs": [
    {
     "data": {
      "text/plain": [
       "True"
      ]
     },
     "execution_count": 14,
     "metadata": {},
     "output_type": "execute_result"
    }
   ],
   "source": [
    "z == x"
   ]
  },
  {
   "cell_type": "code",
   "execution_count": 15,
   "id": "f660caa9",
   "metadata": {},
   "outputs": [
    {
     "data": {
      "text/plain": [
       "0.0"
      ]
     },
     "execution_count": 15,
     "metadata": {},
     "output_type": "execute_result"
    }
   ],
   "source": [
    "z.d(x)"
   ]
  },
  {
   "cell_type": "code",
   "execution_count": 16,
   "id": "b8e3000a",
   "metadata": {},
   "outputs": [
    {
     "data": {
      "text/plain": [
       "1.0"
      ]
     },
     "execution_count": 16,
     "metadata": {},
     "output_type": "execute_result"
    }
   ],
   "source": [
    "z.d(z)"
   ]
  },
  {
   "cell_type": "code",
   "execution_count": 17,
   "id": "c7d0c6cd",
   "metadata": {},
   "outputs": [
    {
     "data": {
      "text/plain": [
       "1.0"
      ]
     },
     "execution_count": 17,
     "metadata": {},
     "output_type": "execute_result"
    }
   ],
   "source": [
    "x.d(x)"
   ]
  },
  {
   "cell_type": "code",
   "execution_count": 18,
   "id": "a6178f76",
   "metadata": {},
   "outputs": [],
   "source": [
    "x = adnumber(4.)"
   ]
  },
  {
   "cell_type": "code",
   "execution_count": 19,
   "id": "eacf8f51",
   "metadata": {},
   "outputs": [
    {
     "data": {
      "text/plain": [
       "{ad(4.0): 1.0}"
      ]
     },
     "execution_count": 19,
     "metadata": {},
     "output_type": "execute_result"
    }
   ],
   "source": [
    "x.d()"
   ]
  },
  {
   "cell_type": "code",
   "execution_count": 20,
   "id": "44efea10",
   "metadata": {},
   "outputs": [],
   "source": [
    "x = adnumber(2)"
   ]
  },
  {
   "cell_type": "code",
   "execution_count": 21,
   "id": "43efa678",
   "metadata": {},
   "outputs": [],
   "source": [
    "from ad.admath import *"
   ]
  },
  {
   "cell_type": "code",
   "execution_count": 22,
   "id": "7e5d8d5c",
   "metadata": {},
   "outputs": [
    {
     "data": {
      "text/plain": [
       "ad(-0.7568024953079282)"
      ]
     },
     "execution_count": 22,
     "metadata": {},
     "output_type": "execute_result"
    }
   ],
   "source": [
    "sin(x**2)"
   ]
  },
  {
   "cell_type": "code",
   "execution_count": 29,
   "id": "cf690351",
   "metadata": {},
   "outputs": [
    {
     "data": {
      "text/plain": [
       "[ad(1), [ad(2), ad(3)]]"
      ]
     },
     "execution_count": 29,
     "metadata": {},
     "output_type": "execute_result"
    }
   ],
   "source": [
    "adnumber([1, [2, 3]])"
   ]
  },
  {
   "cell_type": "code",
   "execution_count": 30,
   "id": "d1b135ce",
   "metadata": {},
   "outputs": [
    {
     "data": {
      "text/plain": [
       "(ad(1), ad(2))"
      ]
     },
     "execution_count": 30,
     "metadata": {},
     "output_type": "execute_result"
    }
   ],
   "source": [
    "adnumber((1, 2))"
   ]
  },
  {
   "cell_type": "code",
   "execution_count": 32,
   "id": "731e0fe4",
   "metadata": {},
   "outputs": [
    {
     "data": {
      "text/plain": [
       "array([ad(1), ad(2), ad(3), ad(4)], dtype=object)"
      ]
     },
     "execution_count": 32,
     "metadata": {},
     "output_type": "execute_result"
    }
   ],
   "source": [
    "import numpy as np\n",
    "arr = adnumber(np.array([1,2,3,4]))\n",
    "arr"
   ]
  },
  {
   "cell_type": "code",
   "execution_count": 33,
   "id": "af5e8a3e",
   "metadata": {},
   "outputs": [
    {
     "data": {
      "text/plain": [
       "array([ad(2), ad(4), ad(6), ad(8)], dtype=object)"
      ]
     },
     "execution_count": 33,
     "metadata": {},
     "output_type": "execute_result"
    }
   ],
   "source": [
    "2*arr"
   ]
  },
  {
   "cell_type": "code",
   "execution_count": 34,
   "id": "8c1e3417",
   "metadata": {},
   "outputs": [
    {
     "data": {
      "text/plain": [
       "ad(10)"
      ]
     },
     "execution_count": 34,
     "metadata": {},
     "output_type": "execute_result"
    }
   ],
   "source": [
    "sum(arr)"
   ]
  },
  {
   "cell_type": "code",
   "execution_count": 35,
   "id": "69be2424",
   "metadata": {},
   "outputs": [
    {
     "data": {
      "text/plain": [
       "ad(4.0)"
      ]
     },
     "execution_count": 35,
     "metadata": {},
     "output_type": "execute_result"
    }
   ],
   "source": [
    "square"
   ]
  },
  {
   "cell_type": "code",
   "execution_count": 36,
   "id": "63729f43",
   "metadata": {},
   "outputs": [
    {
     "data": {
      "text/plain": [
       "4.0"
      ]
     },
     "execution_count": 36,
     "metadata": {},
     "output_type": "execute_result"
    }
   ],
   "source": [
    "square.x"
   ]
  },
  {
   "cell_type": "code",
   "execution_count": 37,
   "id": "1eb39b29",
   "metadata": {},
   "outputs": [
    {
     "data": {
      "text/plain": [
       "0.0"
      ]
     },
     "execution_count": 37,
     "metadata": {},
     "output_type": "execute_result"
    }
   ],
   "source": [
    "square.d(x)"
   ]
  },
  {
   "cell_type": "code",
   "execution_count": 38,
   "id": "2ff23c3e",
   "metadata": {},
   "outputs": [
    {
     "data": {
      "text/plain": [
       "4.0"
      ]
     },
     "execution_count": 38,
     "metadata": {},
     "output_type": "execute_result"
    }
   ],
   "source": [
    "x = adnumber(2)\n",
    "square = x**2\n",
    "square.d(x)"
   ]
  },
  {
   "cell_type": "code",
   "execution_count": 39,
   "id": "5950b81e",
   "metadata": {},
   "outputs": [
    {
     "data": {
      "text/plain": [
       "ad(4)"
      ]
     },
     "execution_count": 39,
     "metadata": {},
     "output_type": "execute_result"
    }
   ],
   "source": [
    "square"
   ]
  },
  {
   "cell_type": "code",
   "execution_count": 40,
   "id": "f76109eb",
   "metadata": {},
   "outputs": [
    {
     "data": {
      "text/plain": [
       "2.0"
      ]
     },
     "execution_count": 40,
     "metadata": {},
     "output_type": "execute_result"
    }
   ],
   "source": [
    "square.d2(x)"
   ]
  },
  {
   "cell_type": "code",
   "execution_count": 41,
   "id": "7de91f3a",
   "metadata": {},
   "outputs": [
    {
     "data": {
      "text/plain": [
       "{ad(2): 4.0}"
      ]
     },
     "execution_count": 41,
     "metadata": {},
     "output_type": "execute_result"
    }
   ],
   "source": [
    "square.d()"
   ]
  },
  {
   "cell_type": "code",
   "execution_count": 42,
   "id": "c30db99b",
   "metadata": {},
   "outputs": [],
   "source": [
    "y = adnumber(1.5)"
   ]
  },
  {
   "cell_type": "code",
   "execution_count": 43,
   "id": "52f705a9",
   "metadata": {},
   "outputs": [
    {
     "data": {
      "text/plain": [
       "0.0"
      ]
     },
     "execution_count": 43,
     "metadata": {},
     "output_type": "execute_result"
    }
   ],
   "source": [
    "square.d(y)"
   ]
  },
  {
   "cell_type": "code",
   "execution_count": 52,
   "id": "5a319bef",
   "metadata": {},
   "outputs": [
    {
     "data": {
      "text/plain": [
       "ad(2.6666666666666665)"
      ]
     },
     "execution_count": 52,
     "metadata": {},
     "output_type": "execute_result"
    }
   ],
   "source": [
    "z = square / y\n",
    "z"
   ]
  },
  {
   "cell_type": "code",
   "execution_count": 53,
   "id": "b0add6f8",
   "metadata": {},
   "outputs": [
    {
     "data": {
      "text/plain": [
       "-1.7777777777777777"
      ]
     },
     "execution_count": 53,
     "metadata": {},
     "output_type": "execute_result"
    }
   ],
   "source": [
    "z.d2c(x, y)"
   ]
  },
  {
   "cell_type": "code",
   "execution_count": 54,
   "id": "5e0c95d6",
   "metadata": {},
   "outputs": [
    {
     "data": {
      "text/plain": [
       "{ad(2): 2.6666666666666665, ad(1.5): -1.7777777777777777}"
      ]
     },
     "execution_count": 54,
     "metadata": {},
     "output_type": "execute_result"
    }
   ],
   "source": [
    "z.d()"
   ]
  },
  {
   "cell_type": "code",
   "execution_count": 55,
   "id": "f6595e5b",
   "metadata": {},
   "outputs": [
    {
     "data": {
      "text/plain": [
       "0.0"
      ]
     },
     "execution_count": 55,
     "metadata": {},
     "output_type": "execute_result"
    }
   ],
   "source": [
    "z.d(square)"
   ]
  },
  {
   "cell_type": "code",
   "execution_count": 56,
   "id": "d2df0199",
   "metadata": {},
   "outputs": [],
   "source": [
    "u, v = adnumber(0.1, 'u'), adnumber(3.14, 'v')"
   ]
  },
  {
   "cell_type": "code",
   "execution_count": 57,
   "id": "c35f6c0a",
   "metadata": {},
   "outputs": [
    {
     "data": {
      "text/plain": [
       "ad(62.9)"
      ]
     },
     "execution_count": 57,
     "metadata": {},
     "output_type": "execute_result"
    }
   ],
   "source": [
    "sum_value = u + 2 * v / u\n",
    "sum_value"
   ]
  },
  {
   "cell_type": "code",
   "execution_count": 58,
   "id": "f9ef13c8",
   "metadata": {},
   "outputs": [
    {
     "data": {
      "text/plain": [
       "{ad(0.1, u): -626.9999999999999, ad(3.14, v): 20.0}"
      ]
     },
     "execution_count": 58,
     "metadata": {},
     "output_type": "execute_result"
    }
   ],
   "source": [
    "sum_value.d()"
   ]
  },
  {
   "cell_type": "code",
   "execution_count": 60,
   "id": "b05c4268",
   "metadata": {},
   "outputs": [
    {
     "data": {
      "text/plain": [
       "[-626.9999999999999, 20.0]"
      ]
     },
     "execution_count": 60,
     "metadata": {},
     "output_type": "execute_result"
    }
   ],
   "source": [
    "sum_value.gradient([u, v])"
   ]
  },
  {
   "cell_type": "code",
   "execution_count": 63,
   "id": "d79fdfcb",
   "metadata": {},
   "outputs": [
    {
     "data": {
      "text/plain": [
       "array([[12560.,  -200.],\n",
       "       [ -200.,     0.]])"
      ]
     },
     "execution_count": 63,
     "metadata": {},
     "output_type": "execute_result"
    }
   ],
   "source": [
    "np.array(sum_value.hessian([u, v]))"
   ]
  },
  {
   "cell_type": "code",
   "execution_count": 62,
   "id": "4009ed2b",
   "metadata": {},
   "outputs": [
    {
     "data": {
      "text/plain": [
       "list"
      ]
     },
     "execution_count": 62,
     "metadata": {},
     "output_type": "execute_result"
    }
   ],
   "source": [
    "type(_)"
   ]
  },
  {
   "cell_type": "code",
   "execution_count": 64,
   "id": "efab6933",
   "metadata": {},
   "outputs": [
    {
     "data": {
      "text/plain": [
       "[[4.0, 0.0, 0.0], [0.0, -626.9999999999999, 20.0]]"
      ]
     },
     "execution_count": 64,
     "metadata": {},
     "output_type": "execute_result"
    }
   ],
   "source": [
    "from ad import jacobian\n",
    "jacobian([square, sum_value], [x, u, v])"
   ]
  },
  {
   "cell_type": "code",
   "execution_count": null,
   "id": "bfb8b25f",
   "metadata": {},
   "outputs": [],
   "source": []
  }
 ],
 "metadata": {
  "kernelspec": {
   "display_name": "Python 3 (ipykernel)",
   "language": "python",
   "name": "python3"
  },
  "language_info": {
   "codemirror_mode": {
    "name": "ipython",
    "version": 3
   },
   "file_extension": ".py",
   "mimetype": "text/x-python",
   "name": "python",
   "nbconvert_exporter": "python",
   "pygments_lexer": "ipython3",
   "version": "3.8.5"
  }
 },
 "nbformat": 4,
 "nbformat_minor": 5
}
